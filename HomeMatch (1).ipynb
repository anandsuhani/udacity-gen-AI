{
 "cells": [
  {
   "cell_type": "markdown",
   "id": "a108af04",
   "metadata": {},
   "source": [
    "This is a starter notebook for the project, you'll have to import the libraries you'll need, you can find a list of the ones available in this workspace in the requirements.txt file in this workspace. "
   ]
  },
  {
   "cell_type": "code",
   "execution_count": 103,
   "id": "6554fd4c",
   "metadata": {},
   "outputs": [],
   "source": [
    "import os\n",
    "import openai\n",
    "import chromadb\n",
    "from chromadb import Client\n",
    "\n",
    "os.environ[\"OPENAI_API_KEY\"] = \"my key\"\n",
    "os.environ[\"OPENAI_API_BASE\"] = \"https://openai.vocareum.com/v1\"\n",
    "\n",
    "openai.api_key = os.getenv(\"OPENAI_API_KEY\")\n",
    "openai.api_base = os.getenv(\"OPENAI_API_BASE\")\n",
    "\n",
    "\n",
    "from langchain.llms import OpenAI\n",
    "from langchain.chat_models import ChatOpenAI\n",
    "from langchain.prompts import PromptTemplate\n",
    "from langchain.memory import ChatMessageHistory, ConversationSummaryMemory, ConversationBufferMemory, CombinedMemory\n",
    "from langchain.chains import ConversationChain"
   ]
  },
  {
   "cell_type": "code",
   "execution_count": 104,
   "id": "bfa12238",
   "metadata": {},
   "outputs": [],
   "source": [
    "listings = [\n",
    "    {\n",
    "        \"Neighborhood\": \"Maplewood\",\n",
    "        \"Price\": \"$650,000\",\n",
    "        \"Bedrooms\": 4,\n",
    "        \"Bathrooms\": 3,\n",
    "        \"House Size\": \"2,400 sqft\",\n",
    "        \"Description\": \"Spacious family home in Maplewood featuring an updated kitchen, large living room with fireplace, and a beautifully landscaped backyard perfect for entertaining. Recent upgrades include new hardwood floors and energy-efficient windows.\",\n",
    "        \"Neighborhood Description\": \"Maplewood is a friendly neighborhood with excellent schools, parks, and easy access to shopping centers and commuter routes.\"\n",
    "    },\n",
    "    {\n",
    "        \"Neighborhood\": \"Willow Creek\",\n",
    "        \"Price\": \"$720,000\",\n",
    "        \"Bedrooms\": 3,\n",
    "        \"Bathrooms\": 2.5,\n",
    "        \"House Size\": \"2,100 sqft\",\n",
    "        \"Description\": \"Modern craftsman-style home boasting an open floor plan, gourmet kitchen with granite countertops, and a cozy den. The master suite includes a walk-in closet and spa-like bathroom. Enjoy morning coffee on the front porch overlooking quiet streets.\",\n",
    "        \"Neighborhood Description\": \"Willow Creek offers serene suburban living with tree-lined streets, local cafes, and community events.\"\n",
    "    },\n",
    "    # ... (add all 10 listings similarly)\n",
    "    {\n",
    "        \"Neighborhood\": \"Oakridge\",\n",
    "        \"Price\": \"$850,000\",\n",
    "        \"Bedrooms\": 5,\n",
    "        \"Bathrooms\": 4,\n",
    "        \"House Size\": \"3,500 sqft\",\n",
    "        \"Description\": \"Elegant colonial in Oakridge with formal dining and living rooms, large family room with built-in shelving, and a chef’s kitchen. The backyard features a deck and garden area ideal for outdoor gatherings.\",\n",
    "        \"Neighborhood Description\": \"Oakridge is known for its spacious lots, mature trees, and proximity to excellent public schools.\"\n",
    "    },\n",
    "    {\n",
    "        \"Neighborhood\": \"Cedar Park\",\n",
    "        \"Price\": \"$590,000\",\n",
    "        \"Bedrooms\": 3,\n",
    "        \"Bathrooms\": 2,\n",
    "        \"House Size\": \"1,800 sqft\",\n",
    "        \"Description\": \"Charming bungalow with updated kitchen and bathrooms, hardwood floors throughout, and a fenced backyard. Close to parks and walking trails, perfect for active families or retirees.\",\n",
    "        \"Neighborhood Description\": \"Cedar Park is a quiet neighborhood with a strong community vibe and easy access to downtown.\"\n",
    "    },\n",
    "    {\n",
    "        \"Neighborhood\": \"Riverbend\",\n",
    "        \"Price\": \"$780,000\",\n",
    "        \"Bedrooms\": 4,\n",
    "        \"Bathrooms\": 3,\n",
    "        \"House Size\": \"2,750 sqft\",\n",
    "        \"Description\": \"Beautiful riverfront property featuring vaulted ceilings, large windows with river views, and a gourmet kitchen. The master suite includes a balcony overlooking the water.\",\n",
    "        \"Neighborhood Description\": \"Riverbend is a sought-after community for nature lovers, offering kayaking, hiking trails, and scenic parks.\"\n",
    "    },\n",
    "    {\n",
    "        \"Neighborhood\": \"Greenfield\",\n",
    "        \"Price\": \"$670,000\",\n",
    "        \"Bedrooms\": 3,\n",
    "        \"Bathrooms\": 2,\n",
    "        \"House Size\": \"2,200 sqft\",\n",
    "        \"Description\": \"Updated ranch-style home with open concept living area, large backyard with patio, and a two-car garage. Energy-efficient appliances and solar panels included.\",\n",
    "        \"Neighborhood Description\": \"Greenfield is a family-friendly neighborhood with top-rated schools and plenty of recreational options.\"\n",
    "    },\n",
    "    {\n",
    "        \"Neighborhood\": \"Lakeside\",\n",
    "        \"Price\": \"$900,000\",\n",
    "        \"Bedrooms\": 4,\n",
    "        \"Bathrooms\": 3.5,\n",
    "        \"House Size\": \"3,000 sqft\",\n",
    "        \"Description\": \"Stunning contemporary home on the lake featuring floor-to-ceiling windows, modern kitchen with island, and spacious deck for entertaining. Includes private dock access.\",\n",
    "        \"Neighborhood Description\": \"Lakeside is a prestigious community known for its beautiful lake views and outdoor lifestyle.\"\n",
    "    },\n",
    "    {\n",
    "        \"Neighborhood\": \"Pine Hill\",\n",
    "        \"Price\": \"$550,000\",\n",
    "        \"Bedrooms\": 3,\n",
    "        \"Bathrooms\": 2,\n",
    "        \"House Size\": \"1,900 sqft\",\n",
    "        \"Description\": \"Cozy Cape Cod with a bright sunroom, updated kitchen, and large fenced yard. Conveniently located near shopping and schools.\",\n",
    "        \"Neighborhood Description\": \"Pine Hill is a welcoming neighborhood with easy access to highways and community amenities.\"\n",
    "    },\n",
    "    {\n",
    "        \"Neighborhood\": \"Elmwood\",\n",
    "        \"Price\": \"$620,000\",\n",
    "        \"Bedrooms\": 4,\n",
    "        \"Bathrooms\": 2.5,\n",
    "        \"House Size\": \"2,300 sqft\",\n",
    "        \"Description\": \"Traditional split-level home with formal dining, updated bathrooms, and a finished basement. The backyard includes a deck and mature trees for privacy.\",\n",
    "        \"Neighborhood Description\": \"Elmwood is known for its mature neighborhoods, good schools, and quiet streets.\"\n",
    "    },\n",
    "    {\n",
    "        \"Neighborhood\": \"Sunnyvale\",\n",
    "        \"Price\": \"$700,000\",\n",
    "        \"Bedrooms\": 3,\n",
    "        \"Bathrooms\": 2,\n",
    "        \"House Size\": \"2,000 sqft\",\n",
    "        \"Description\": \"Bright and airy townhouse with open floor plan, stainless steel appliances, and a private patio. Close to parks, shops, and public transportation.\",\n",
    "        \"Neighborhood Description\": \"Sunnyvale is a vibrant community with excellent amenities and strong commuter links.\"\n",
    "    }\n",
    "]"
   ]
  },
  {
   "cell_type": "code",
   "execution_count": 105,
   "id": "095f7cf2",
   "metadata": {},
   "outputs": [],
   "source": [
    "from chromadb.config import Settings\n",
    "\n",
    "\n",
    "client = chromadb.Client(Settings()) \n",
    "\n",
    "\n",
    "collection = client.get_or_create_collection(name=\"real_estate_listings\")"
   ]
  },
  {
   "cell_type": "code",
   "execution_count": 106,
   "id": "0c4b409c",
   "metadata": {},
   "outputs": [
    {
     "name": "stdout",
     "output_type": "stream",
     "text": [
      "Processing 10 listings...\n"
     ]
    },
    {
     "name": "stderr",
     "output_type": "stream",
     "text": [
      "Add of existing embedding ID: listing_1\n",
      "Add of existing embedding ID: listing_2\n",
      "Add of existing embedding ID: listing_3\n",
      "Add of existing embedding ID: listing_4\n",
      "Add of existing embedding ID: listing_5\n",
      "Add of existing embedding ID: listing_6\n",
      "Add of existing embedding ID: listing_7\n",
      "Add of existing embedding ID: listing_8\n",
      "Add of existing embedding ID: listing_9\n",
      "Add of existing embedding ID: listing_10\n",
      "Add of existing embedding ID: listing_1\n",
      "Insert of existing embedding ID: listing_1\n"
     ]
    },
    {
     "name": "stdout",
     "output_type": "stream",
     "text": [
      "Stored listing 1: Maplewood\n"
     ]
    },
    {
     "name": "stderr",
     "output_type": "stream",
     "text": [
      "Add of existing embedding ID: listing_2\n",
      "Insert of existing embedding ID: listing_2\n"
     ]
    },
    {
     "name": "stdout",
     "output_type": "stream",
     "text": [
      "Stored listing 2: Willow Creek\n"
     ]
    },
    {
     "name": "stderr",
     "output_type": "stream",
     "text": [
      "Add of existing embedding ID: listing_3\n",
      "Insert of existing embedding ID: listing_3\n"
     ]
    },
    {
     "name": "stdout",
     "output_type": "stream",
     "text": [
      "Stored listing 3: Oakridge\n"
     ]
    },
    {
     "name": "stderr",
     "output_type": "stream",
     "text": [
      "Add of existing embedding ID: listing_4\n",
      "Insert of existing embedding ID: listing_4\n"
     ]
    },
    {
     "name": "stdout",
     "output_type": "stream",
     "text": [
      "Stored listing 4: Cedar Park\n"
     ]
    },
    {
     "name": "stderr",
     "output_type": "stream",
     "text": [
      "Add of existing embedding ID: listing_5\n",
      "Insert of existing embedding ID: listing_5\n"
     ]
    },
    {
     "name": "stdout",
     "output_type": "stream",
     "text": [
      "Stored listing 5: Riverbend\n"
     ]
    },
    {
     "name": "stderr",
     "output_type": "stream",
     "text": [
      "Add of existing embedding ID: listing_6\n",
      "Insert of existing embedding ID: listing_6\n"
     ]
    },
    {
     "name": "stdout",
     "output_type": "stream",
     "text": [
      "Stored listing 6: Greenfield\n"
     ]
    },
    {
     "name": "stderr",
     "output_type": "stream",
     "text": [
      "Add of existing embedding ID: listing_7\n",
      "Insert of existing embedding ID: listing_7\n"
     ]
    },
    {
     "name": "stdout",
     "output_type": "stream",
     "text": [
      "Stored listing 7: Lakeside\n"
     ]
    },
    {
     "name": "stderr",
     "output_type": "stream",
     "text": [
      "Add of existing embedding ID: listing_8\n",
      "Insert of existing embedding ID: listing_8\n"
     ]
    },
    {
     "name": "stdout",
     "output_type": "stream",
     "text": [
      "Stored listing 8: Pine Hill\n"
     ]
    },
    {
     "name": "stderr",
     "output_type": "stream",
     "text": [
      "Add of existing embedding ID: listing_9\n",
      "Insert of existing embedding ID: listing_9\n"
     ]
    },
    {
     "name": "stdout",
     "output_type": "stream",
     "text": [
      "Stored listing 9: Elmwood\n"
     ]
    },
    {
     "name": "stderr",
     "output_type": "stream",
     "text": [
      "Add of existing embedding ID: listing_10\n",
      "Insert of existing embedding ID: listing_10\n"
     ]
    },
    {
     "name": "stdout",
     "output_type": "stream",
     "text": [
      "Stored listing 10: Sunnyvale\n",
      "All listings stored successfully.\n"
     ]
    }
   ],
   "source": [
    "def get_embedding(text):\n",
    "    response = openai.Embedding.create(\n",
    "        model=\"text-embedding-ada-002\",\n",
    "        input=text\n",
    "    )\n",
    "    return response['data'][0]['embedding']\n",
    "\n",
    "def main():\n",
    "    print(f\"Processing {len(listings)} listings...\")\n",
    "\n",
    "    for i, listing in enumerate(listings):\n",
    "        full_text = f\"{listing['Neighborhood']} {listing['Description']} {listing['Neighborhood Description']}\"\n",
    "        embedding = get_embedding(full_text)\n",
    "\n",
    "        collection.add(\n",
    "            documents=[full_text],\n",
    "            metadatas=[listing],\n",
    "            ids=[f\"listing_{i+1}\"],\n",
    "            embeddings=[embedding]\n",
    "        )\n",
    "        print(f\"Stored listing {i+1}: {listing['Neighborhood']}\")\n",
    "\n",
    "    print(\"All listings stored successfully.\")\n",
    "\n",
    "if __name__ == \"__main__\":\n",
    "    main()"
   ]
  },
  {
   "cell_type": "code",
   "execution_count": 107,
   "id": "dc3a601f",
   "metadata": {},
   "outputs": [
    {
     "name": "stdout",
     "output_type": "stream",
     "text": [
      "\n",
      "🏡 Match 1\n",
      "Document: Maplewood Spacious family home in Maplewood featuring an updated kitchen, large living room with fireplace, and a beautifully landscaped backyard perfect for entertaining. Recent upgrades include new hardwood floors and energy-efficient windows. Maplewood is a friendly neighborhood with excellent schools, parks, and easy access to shopping centers and commuter routes.\n",
      "Metadata: {'Bathrooms': 3, 'Bedrooms': 4, 'Description': 'Spacious family home in Maplewood featuring an updated kitchen, large living room with fireplace, and a beautifully landscaped backyard perfect for entertaining. Recent upgrades include new hardwood floors and energy-efficient windows.', 'House Size': '2,400 sqft', 'Neighborhood': 'Maplewood', 'Neighborhood Description': 'Maplewood is a friendly neighborhood with excellent schools, parks, and easy access to shopping centers and commuter routes.', 'Price': '$650,000'}\n",
      "Score: 0.3105999231338501\n",
      "\n",
      "🏡 Match 2\n",
      "Document: Cedar Park Charming bungalow with updated kitchen and bathrooms, hardwood floors throughout, and a fenced backyard. Close to parks and walking trails, perfect for active families or retirees. Cedar Park is a quiet neighborhood with a strong community vibe and easy access to downtown.\n",
      "Metadata: {'Bathrooms': 2, 'Bedrooms': 3, 'Description': 'Charming bungalow with updated kitchen and bathrooms, hardwood floors throughout, and a fenced backyard. Close to parks and walking trails, perfect for active families or retirees.', 'House Size': '1,800 sqft', 'Neighborhood': 'Cedar Park', 'Neighborhood Description': 'Cedar Park is a quiet neighborhood with a strong community vibe and easy access to downtown.', 'Price': '$590,000'}\n",
      "Score: 0.3123639225959778\n",
      "\n",
      "🏡 Match 3\n",
      "Document: Sunnyvale Bright and airy townhouse with open floor plan, stainless steel appliances, and a private patio. Close to parks, shops, and public transportation. Sunnyvale is a vibrant community with excellent amenities and strong commuter links.\n",
      "Metadata: {'Bathrooms': 2, 'Bedrooms': 3, 'Description': 'Bright and airy townhouse with open floor plan, stainless steel appliances, and a private patio. Close to parks, shops, and public transportation.', 'House Size': '2,000 sqft', 'Neighborhood': 'Sunnyvale', 'Neighborhood Description': 'Sunnyvale is a vibrant community with excellent amenities and strong commuter links.', 'Price': '$700,000'}\n",
      "Score: 0.3166826367378235\n",
      "\n",
      "🏡 Match 4\n",
      "Document: Greenfield Updated ranch-style home with open concept living area, large backyard with patio, and a two-car garage. Energy-efficient appliances and solar panels included. Greenfield is a family-friendly neighborhood with top-rated schools and plenty of recreational options.\n",
      "Metadata: {'Bathrooms': 2, 'Bedrooms': 3, 'Description': 'Updated ranch-style home with open concept living area, large backyard with patio, and a two-car garage. Energy-efficient appliances and solar panels included.', 'House Size': '2,200 sqft', 'Neighborhood': 'Greenfield', 'Neighborhood Description': 'Greenfield is a family-friendly neighborhood with top-rated schools and plenty of recreational options.', 'Price': '$670,000'}\n",
      "Score: 0.32271143794059753\n",
      "\n",
      "🏡 Match 5\n",
      "Document: Oakridge Elegant colonial in Oakridge with formal dining and living rooms, large family room with built-in shelving, and a chef’s kitchen. The backyard features a deck and garden area ideal for outdoor gatherings. Oakridge is known for its spacious lots, mature trees, and proximity to excellent public schools.\n",
      "Metadata: {'Bathrooms': 4, 'Bedrooms': 5, 'Description': 'Elegant colonial in Oakridge with formal dining and living rooms, large family room with built-in shelving, and a chef’s kitchen. The backyard features a deck and garden area ideal for outdoor gatherings.', 'House Size': '3,500 sqft', 'Neighborhood': 'Oakridge', 'Neighborhood Description': 'Oakridge is known for its spacious lots, mature trees, and proximity to excellent public schools.', 'Price': '$850,000'}\n",
      "Score: 0.32630836963653564\n"
     ]
    }
   ],
   "source": [
    "questions = [   \n",
    "                \"How many bedrooms do you want in your house??\" \n",
    "                \"What is the most important thing to you in choosing your property?\", \n",
    "                \"Any additional requests for the house?\", \n",
    "                \"What form of transportation do you prefer?\",\n",
    "                \"How urban do you want your neighborhood to be?\",   \n",
    "            ]\n",
    "answers = [\n",
    "    \"A cozy four-bedroom house with at least 2 bathrooms.\",\n",
    "    \"Good local schools and parks and grocery stores nearby\",\n",
    "    \"A large kitchen for cooking, a garage, and a good air conditioning system\",\n",
    "    \"Transportation should be accessible by car and/or bike\",\n",
    "    \"Suburban, but still with things to do such as arcades, cinemas, and downtowns.\"\n",
    "]\n",
    "\n",
    "user_preferences_text = \" \".join(answers)\n",
    "\n",
    "\n",
    "user_embedding = get_embedding(user_preferences_text)\n",
    "\n",
    "\n",
    "results = collection.query(\n",
    "    query_embeddings=[user_embedding],\n",
    "    n_results=5\n",
    ")\n",
    "\n",
    "\n",
    "for i in range(len(results[\"ids\"][0])):\n",
    "    print(f\"\\n🏡 Match {i+1}\")\n",
    "    print(\"Document:\", results[\"documents\"][0][i])\n",
    "    print(\"Metadata:\", results[\"metadatas\"][0][i])\n",
    "    print(\"Score:\", results[\"distances\"][0][i])"
   ]
  },
  {
   "cell_type": "code",
   "execution_count": 108,
   "id": "64112bd3",
   "metadata": {},
   "outputs": [],
   "source": [
    "def get_embedding(text):\n",
    "    response = openai.Embedding.create(\n",
    "        model=\"text-embedding-ada-002\",\n",
    "        input=text\n",
    "    )\n",
    "    return response['data'][0]['embedding']\n",
    "\n",
    "def build_user_profile(answers):\n",
    "    return \" \".join(answers)\n"
   ]
  },
  {
   "cell_type": "code",
   "execution_count": 109,
   "id": "460b2901",
   "metadata": {},
   "outputs": [],
   "source": [
    "def query_similar_listings(user_embedding, collection, top_k=5):\n",
    "    results = collection.query(\n",
    "        query_embeddings=[user_embedding],\n",
    "        n_results=top_k\n",
    "    )\n",
    "    return results\n"
   ]
  },
  {
   "cell_type": "code",
   "execution_count": 110,
   "id": "fe764754",
   "metadata": {},
   "outputs": [],
   "source": [
    "user_text = build_user_profile(answers)      \n",
    "user_embedding = get_embedding(user_text)   \n",
    "\n"
   ]
  },
  {
   "cell_type": "code",
   "execution_count": 111,
   "id": "d70fb998",
   "metadata": {},
   "outputs": [],
   "source": [
    "def query_similar_listings(user_embedding, collection, top_k=5):\n",
    "    results = collection.query(\n",
    "        query_embeddings=[user_embedding],\n",
    "        n_results=top_k\n",
    "    )\n",
    "    return results\n"
   ]
  },
  {
   "cell_type": "code",
   "execution_count": 112,
   "id": "58978fa6",
   "metadata": {},
   "outputs": [
    {
     "name": "stdout",
     "output_type": "stream",
     "text": [
      "\n",
      "🏡 Match 1\n",
      "Listing ID: listing_1\n",
      "Description: Maplewood Spacious family home in Maplewood featuring an updated kitchen, large living room with fireplace, and a beautifully landscaped backyard perfect for entertaining. Recent upgrades include new hardwood floors and energy-efficient windows. Maplewood is a friendly neighborhood with excellent schools, parks, and easy access to shopping centers and commuter routes.\n",
      "Metadata: {'Bathrooms': 3, 'Bedrooms': 4, 'Description': 'Spacious family home in Maplewood featuring an updated kitchen, large living room with fireplace, and a beautifully landscaped backyard perfect for entertaining. Recent upgrades include new hardwood floors and energy-efficient windows.', 'House Size': '2,400 sqft', 'Neighborhood': 'Maplewood', 'Neighborhood Description': 'Maplewood is a friendly neighborhood with excellent schools, parks, and easy access to shopping centers and commuter routes.', 'Price': '$650,000'}\n",
      "Similarity Score: 0.3105999231338501\n",
      "\n",
      "🏡 Match 2\n",
      "Listing ID: listing_4\n",
      "Description: Cedar Park Charming bungalow with updated kitchen and bathrooms, hardwood floors throughout, and a fenced backyard. Close to parks and walking trails, perfect for active families or retirees. Cedar Park is a quiet neighborhood with a strong community vibe and easy access to downtown.\n",
      "Metadata: {'Bathrooms': 2, 'Bedrooms': 3, 'Description': 'Charming bungalow with updated kitchen and bathrooms, hardwood floors throughout, and a fenced backyard. Close to parks and walking trails, perfect for active families or retirees.', 'House Size': '1,800 sqft', 'Neighborhood': 'Cedar Park', 'Neighborhood Description': 'Cedar Park is a quiet neighborhood with a strong community vibe and easy access to downtown.', 'Price': '$590,000'}\n",
      "Similarity Score: 0.3123639225959778\n",
      "\n",
      "🏡 Match 3\n",
      "Listing ID: listing_10\n",
      "Description: Sunnyvale Bright and airy townhouse with open floor plan, stainless steel appliances, and a private patio. Close to parks, shops, and public transportation. Sunnyvale is a vibrant community with excellent amenities and strong commuter links.\n",
      "Metadata: {'Bathrooms': 2, 'Bedrooms': 3, 'Description': 'Bright and airy townhouse with open floor plan, stainless steel appliances, and a private patio. Close to parks, shops, and public transportation.', 'House Size': '2,000 sqft', 'Neighborhood': 'Sunnyvale', 'Neighborhood Description': 'Sunnyvale is a vibrant community with excellent amenities and strong commuter links.', 'Price': '$700,000'}\n",
      "Similarity Score: 0.3166826367378235\n",
      "\n",
      "🏡 Match 4\n",
      "Listing ID: listing_6\n",
      "Description: Greenfield Updated ranch-style home with open concept living area, large backyard with patio, and a two-car garage. Energy-efficient appliances and solar panels included. Greenfield is a family-friendly neighborhood with top-rated schools and plenty of recreational options.\n",
      "Metadata: {'Bathrooms': 2, 'Bedrooms': 3, 'Description': 'Updated ranch-style home with open concept living area, large backyard with patio, and a two-car garage. Energy-efficient appliances and solar panels included.', 'House Size': '2,200 sqft', 'Neighborhood': 'Greenfield', 'Neighborhood Description': 'Greenfield is a family-friendly neighborhood with top-rated schools and plenty of recreational options.', 'Price': '$670,000'}\n",
      "Similarity Score: 0.32271143794059753\n",
      "\n",
      "🏡 Match 5\n",
      "Listing ID: listing_3\n",
      "Description: Oakridge Elegant colonial in Oakridge with formal dining and living rooms, large family room with built-in shelving, and a chef’s kitchen. The backyard features a deck and garden area ideal for outdoor gatherings. Oakridge is known for its spacious lots, mature trees, and proximity to excellent public schools.\n",
      "Metadata: {'Bathrooms': 4, 'Bedrooms': 5, 'Description': 'Elegant colonial in Oakridge with formal dining and living rooms, large family room with built-in shelving, and a chef’s kitchen. The backyard features a deck and garden area ideal for outdoor gatherings.', 'House Size': '3,500 sqft', 'Neighborhood': 'Oakridge', 'Neighborhood Description': 'Oakridge is known for its spacious lots, mature trees, and proximity to excellent public schools.', 'Price': '$850,000'}\n",
      "Similarity Score: 0.32630836963653564\n"
     ]
    }
   ],
   "source": [
    "results = query_similar_listings(user_embedding, collection, top_k=5)\n",
    "\n",
    "for i in range(len(results[\"ids\"][0])):\n",
    "    print(f\"\\n🏡 Match {i+1}\")\n",
    "    print(\"Listing ID:\", results[\"ids\"][0][i])\n",
    "    print(\"Description:\", results[\"documents\"][0][i])\n",
    "    print(\"Metadata:\", results[\"metadatas\"][0][i])\n",
    "    print(\"Similarity Score:\", results[\"distances\"][0][i])"
   ]
  },
  {
   "cell_type": "code",
   "execution_count": 116,
   "id": "83dec05b",
   "metadata": {},
   "outputs": [
    {
     "name": "stdout",
     "output_type": "stream",
     "text": [
      "\n",
      "--- Evaluating Listing 1 ---\n",
      "\n",
      "\n",
      "\u001b[1m> Entering new ConversationChain chain...\u001b[0m\n",
      "Prompt after formatting:\n",
      "\u001b[32;1m\u001b[1;3m\n",
      "You are a real estate assistant. Use the buyer's preference summary and Q&A to personalize the property listing description.\n",
      "\n",
      "Preference Summary:\n",
      "[SystemMessage(content='The buyer answered 4 preference questions.')]\n",
      "\n",
      "Buyer Q&A:\n",
      "Human: You are a helpful real estate assistant helping a buyer find their ideal home.\n",
      "AI: How many bedrooms do you want in your house??What is the most important thing to you in choosing your property?\n",
      "Human: A cozy four-bedroom house with at least 2 bathrooms.\n",
      "AI: Any additional requests for the house?\n",
      "Human: Good local schools and parks and grocery stores nearby\n",
      "AI: What form of transportation do you prefer?\n",
      "Human: A large kitchen for cooking, a garage, and a good air conditioning system\n",
      "AI: How urban do you want your neighborhood to be?\n",
      "Human: Transportation should be accessible by car and/or bike\n",
      "AI: Now I will help personalize listings based on your preferences.\n",
      "\n",
      "Property Listing Description:\n",
      "{'Neighborhood': 'Maplewood', 'Price': '$650,000', 'Bedrooms': 4, 'Bathrooms': 3, 'House Size': '2,400 sqft', 'Description': 'Spacious family home in Maplewood featuring an updated kitchen, large living room with fireplace, and a beautifully landscaped backyard perfect for entertaining. Recent upgrades include new hardwood floors and energy-efficient windows.', 'Neighborhood Description': 'Maplewood is a friendly neighborhood with excellent schools, parks, and easy access to shopping centers and commuter routes.'}\n",
      "\n",
      "Please rewrite the property description to emphasize features matching the buyer's preferences.\n",
      "Do NOT add or remove factual information, only tailor the tone and emphasis.\n",
      "\n",
      "Personalized Listing Description:\n",
      "\u001b[0m\n",
      "\n",
      "\u001b[1m> Finished chain.\u001b[0m\n"
     ]
    },
    {
     "ename": "ValidationError",
     "evalue": "1 validation error for HumanMessage\ncontent\n  str type expected (type=type_error.str)",
     "output_type": "error",
     "traceback": [
      "\u001b[0;31m---------------------------------------------------------------------------\u001b[0m",
      "\u001b[0;31mValidationError\u001b[0m                           Traceback (most recent call last)",
      "Cell \u001b[0;32mIn[116], line 70\u001b[0m\n\u001b[1;32m     68\u001b[0m \u001b[38;5;28;01mfor\u001b[39;00m i, listing \u001b[38;5;129;01min\u001b[39;00m \u001b[38;5;28menumerate\u001b[39m(listings, \u001b[38;5;241m1\u001b[39m):\n\u001b[1;32m     69\u001b[0m     \u001b[38;5;28mprint\u001b[39m(\u001b[38;5;124mf\u001b[39m\u001b[38;5;124m\"\u001b[39m\u001b[38;5;130;01m\\n\u001b[39;00m\u001b[38;5;124m--- Evaluating Listing \u001b[39m\u001b[38;5;132;01m{\u001b[39;00mi\u001b[38;5;132;01m}\u001b[39;00m\u001b[38;5;124m ---\u001b[39m\u001b[38;5;124m\"\u001b[39m)\n\u001b[0;32m---> 70\u001b[0m     response \u001b[38;5;241m=\u001b[39m \u001b[43mrecommender_chain\u001b[49m\u001b[38;5;241;43m.\u001b[39;49m\u001b[43mpredict\u001b[49m\u001b[43m(\u001b[49m\u001b[38;5;28;43minput\u001b[39;49m\u001b[38;5;241;43m=\u001b[39;49m\u001b[43mlisting\u001b[49m\u001b[43m)\u001b[49m\n\u001b[1;32m     71\u001b[0m     \u001b[38;5;28mprint\u001b[39m(response)\n\u001b[1;32m     72\u001b[0m     listing_ratings\u001b[38;5;241m.\u001b[39mappend((listing, \u001b[38;5;28mstr\u001b[39m(response)))\n",
      "File \u001b[0;32m/opt/conda/lib/python3.10/site-packages/langchain/chains/llm.py:257\u001b[0m, in \u001b[0;36mLLMChain.predict\u001b[0;34m(self, callbacks, **kwargs)\u001b[0m\n\u001b[1;32m    242\u001b[0m \u001b[38;5;28;01mdef\u001b[39;00m \u001b[38;5;21mpredict\u001b[39m(\u001b[38;5;28mself\u001b[39m, callbacks: Callbacks \u001b[38;5;241m=\u001b[39m \u001b[38;5;28;01mNone\u001b[39;00m, \u001b[38;5;241m*\u001b[39m\u001b[38;5;241m*\u001b[39mkwargs: Any) \u001b[38;5;241m-\u001b[39m\u001b[38;5;241m>\u001b[39m \u001b[38;5;28mstr\u001b[39m:\n\u001b[1;32m    243\u001b[0m \u001b[38;5;250m    \u001b[39m\u001b[38;5;124;03m\"\"\"Format prompt with kwargs and pass to LLM.\u001b[39;00m\n\u001b[1;32m    244\u001b[0m \n\u001b[1;32m    245\u001b[0m \u001b[38;5;124;03m    Args:\u001b[39;00m\n\u001b[0;32m   (...)\u001b[0m\n\u001b[1;32m    255\u001b[0m \u001b[38;5;124;03m            completion = llm.predict(adjective=\"funny\")\u001b[39;00m\n\u001b[1;32m    256\u001b[0m \u001b[38;5;124;03m    \"\"\"\u001b[39;00m\n\u001b[0;32m--> 257\u001b[0m     \u001b[38;5;28;01mreturn\u001b[39;00m \u001b[38;5;28;43mself\u001b[39;49m\u001b[43m(\u001b[49m\u001b[43mkwargs\u001b[49m\u001b[43m,\u001b[49m\u001b[43m \u001b[49m\u001b[43mcallbacks\u001b[49m\u001b[38;5;241;43m=\u001b[39;49m\u001b[43mcallbacks\u001b[49m\u001b[43m)\u001b[49m[\u001b[38;5;28mself\u001b[39m\u001b[38;5;241m.\u001b[39moutput_key]\n",
      "File \u001b[0;32m/opt/conda/lib/python3.10/site-packages/langchain/chains/base.py:314\u001b[0m, in \u001b[0;36mChain.__call__\u001b[0;34m(self, inputs, return_only_outputs, callbacks, tags, metadata, run_name, include_run_info)\u001b[0m\n\u001b[1;32m    312\u001b[0m     \u001b[38;5;28;01mraise\u001b[39;00m e\n\u001b[1;32m    313\u001b[0m run_manager\u001b[38;5;241m.\u001b[39mon_chain_end(outputs)\n\u001b[0;32m--> 314\u001b[0m final_outputs: Dict[\u001b[38;5;28mstr\u001b[39m, Any] \u001b[38;5;241m=\u001b[39m \u001b[38;5;28;43mself\u001b[39;49m\u001b[38;5;241;43m.\u001b[39;49m\u001b[43mprep_outputs\u001b[49m\u001b[43m(\u001b[49m\n\u001b[1;32m    315\u001b[0m \u001b[43m    \u001b[49m\u001b[43minputs\u001b[49m\u001b[43m,\u001b[49m\u001b[43m \u001b[49m\u001b[43moutputs\u001b[49m\u001b[43m,\u001b[49m\u001b[43m \u001b[49m\u001b[43mreturn_only_outputs\u001b[49m\n\u001b[1;32m    316\u001b[0m \u001b[43m\u001b[49m\u001b[43m)\u001b[49m\n\u001b[1;32m    317\u001b[0m \u001b[38;5;28;01mif\u001b[39;00m include_run_info:\n\u001b[1;32m    318\u001b[0m     final_outputs[RUN_KEY] \u001b[38;5;241m=\u001b[39m RunInfo(run_id\u001b[38;5;241m=\u001b[39mrun_manager\u001b[38;5;241m.\u001b[39mrun_id)\n",
      "File \u001b[0;32m/opt/conda/lib/python3.10/site-packages/langchain/chains/base.py:410\u001b[0m, in \u001b[0;36mChain.prep_outputs\u001b[0;34m(self, inputs, outputs, return_only_outputs)\u001b[0m\n\u001b[1;32m    408\u001b[0m \u001b[38;5;28mself\u001b[39m\u001b[38;5;241m.\u001b[39m_validate_outputs(outputs)\n\u001b[1;32m    409\u001b[0m \u001b[38;5;28;01mif\u001b[39;00m \u001b[38;5;28mself\u001b[39m\u001b[38;5;241m.\u001b[39mmemory \u001b[38;5;129;01mis\u001b[39;00m \u001b[38;5;129;01mnot\u001b[39;00m \u001b[38;5;28;01mNone\u001b[39;00m:\n\u001b[0;32m--> 410\u001b[0m     \u001b[38;5;28;43mself\u001b[39;49m\u001b[38;5;241;43m.\u001b[39;49m\u001b[43mmemory\u001b[49m\u001b[38;5;241;43m.\u001b[39;49m\u001b[43msave_context\u001b[49m\u001b[43m(\u001b[49m\u001b[43minputs\u001b[49m\u001b[43m,\u001b[49m\u001b[43m \u001b[49m\u001b[43moutputs\u001b[49m\u001b[43m)\u001b[49m\n\u001b[1;32m    411\u001b[0m \u001b[38;5;28;01mif\u001b[39;00m return_only_outputs:\n\u001b[1;32m    412\u001b[0m     \u001b[38;5;28;01mreturn\u001b[39;00m outputs\n",
      "File \u001b[0;32m/opt/conda/lib/python3.10/site-packages/langchain/memory/combined.py:76\u001b[0m, in \u001b[0;36mCombinedMemory.save_context\u001b[0;34m(self, inputs, outputs)\u001b[0m\n\u001b[1;32m     74\u001b[0m \u001b[38;5;66;03m# Save context for all sub-memories\u001b[39;00m\n\u001b[1;32m     75\u001b[0m \u001b[38;5;28;01mfor\u001b[39;00m memory \u001b[38;5;129;01min\u001b[39;00m \u001b[38;5;28mself\u001b[39m\u001b[38;5;241m.\u001b[39mmemories:\n\u001b[0;32m---> 76\u001b[0m     \u001b[43mmemory\u001b[49m\u001b[38;5;241;43m.\u001b[39;49m\u001b[43msave_context\u001b[49m\u001b[43m(\u001b[49m\u001b[43minputs\u001b[49m\u001b[43m,\u001b[49m\u001b[43m \u001b[49m\u001b[43moutputs\u001b[49m\u001b[43m)\u001b[49m\n",
      "File \u001b[0;32m/opt/conda/lib/python3.10/site-packages/langchain/memory/summary.py:91\u001b[0m, in \u001b[0;36mConversationSummaryMemory.save_context\u001b[0;34m(self, inputs, outputs)\u001b[0m\n\u001b[1;32m     89\u001b[0m \u001b[38;5;28;01mdef\u001b[39;00m \u001b[38;5;21msave_context\u001b[39m(\u001b[38;5;28mself\u001b[39m, inputs: Dict[\u001b[38;5;28mstr\u001b[39m, Any], outputs: Dict[\u001b[38;5;28mstr\u001b[39m, \u001b[38;5;28mstr\u001b[39m]) \u001b[38;5;241m-\u001b[39m\u001b[38;5;241m>\u001b[39m \u001b[38;5;28;01mNone\u001b[39;00m:\n\u001b[1;32m     90\u001b[0m \u001b[38;5;250m    \u001b[39m\u001b[38;5;124;03m\"\"\"Save context from this conversation to buffer.\"\"\"\u001b[39;00m\n\u001b[0;32m---> 91\u001b[0m     \u001b[38;5;28;43msuper\u001b[39;49m\u001b[43m(\u001b[49m\u001b[43m)\u001b[49m\u001b[38;5;241;43m.\u001b[39;49m\u001b[43msave_context\u001b[49m\u001b[43m(\u001b[49m\u001b[43minputs\u001b[49m\u001b[43m,\u001b[49m\u001b[43m \u001b[49m\u001b[43moutputs\u001b[49m\u001b[43m)\u001b[49m\n\u001b[1;32m     92\u001b[0m     \u001b[38;5;28mself\u001b[39m\u001b[38;5;241m.\u001b[39mbuffer \u001b[38;5;241m=\u001b[39m \u001b[38;5;28mself\u001b[39m\u001b[38;5;241m.\u001b[39mpredict_new_summary(\n\u001b[1;32m     93\u001b[0m         \u001b[38;5;28mself\u001b[39m\u001b[38;5;241m.\u001b[39mchat_memory\u001b[38;5;241m.\u001b[39mmessages[\u001b[38;5;241m-\u001b[39m\u001b[38;5;241m2\u001b[39m:], \u001b[38;5;28mself\u001b[39m\u001b[38;5;241m.\u001b[39mbuffer\n\u001b[1;32m     94\u001b[0m     )\n",
      "File \u001b[0;32m/opt/conda/lib/python3.10/site-packages/langchain/memory/chat_memory.py:36\u001b[0m, in \u001b[0;36mBaseChatMemory.save_context\u001b[0;34m(self, inputs, outputs)\u001b[0m\n\u001b[1;32m     34\u001b[0m \u001b[38;5;250m\u001b[39m\u001b[38;5;124;03m\"\"\"Save context from this conversation to buffer.\"\"\"\u001b[39;00m\n\u001b[1;32m     35\u001b[0m input_str, output_str \u001b[38;5;241m=\u001b[39m \u001b[38;5;28mself\u001b[39m\u001b[38;5;241m.\u001b[39m_get_input_output(inputs, outputs)\n\u001b[0;32m---> 36\u001b[0m \u001b[38;5;28;43mself\u001b[39;49m\u001b[38;5;241;43m.\u001b[39;49m\u001b[43mchat_memory\u001b[49m\u001b[38;5;241;43m.\u001b[39;49m\u001b[43madd_user_message\u001b[49m\u001b[43m(\u001b[49m\u001b[43minput_str\u001b[49m\u001b[43m)\u001b[49m\n\u001b[1;32m     37\u001b[0m \u001b[38;5;28mself\u001b[39m\u001b[38;5;241m.\u001b[39mchat_memory\u001b[38;5;241m.\u001b[39madd_ai_message(output_str)\n",
      "File \u001b[0;32m/opt/conda/lib/python3.10/site-packages/langchain/schema/chat_history.py:46\u001b[0m, in \u001b[0;36mBaseChatMessageHistory.add_user_message\u001b[0;34m(self, message)\u001b[0m\n\u001b[1;32m     40\u001b[0m \u001b[38;5;28;01mdef\u001b[39;00m \u001b[38;5;21madd_user_message\u001b[39m(\u001b[38;5;28mself\u001b[39m, message: \u001b[38;5;28mstr\u001b[39m) \u001b[38;5;241m-\u001b[39m\u001b[38;5;241m>\u001b[39m \u001b[38;5;28;01mNone\u001b[39;00m:\n\u001b[1;32m     41\u001b[0m \u001b[38;5;250m    \u001b[39m\u001b[38;5;124;03m\"\"\"Convenience method for adding a human message string to the store.\u001b[39;00m\n\u001b[1;32m     42\u001b[0m \n\u001b[1;32m     43\u001b[0m \u001b[38;5;124;03m    Args:\u001b[39;00m\n\u001b[1;32m     44\u001b[0m \u001b[38;5;124;03m        message: The string contents of a human message.\u001b[39;00m\n\u001b[1;32m     45\u001b[0m \u001b[38;5;124;03m    \"\"\"\u001b[39;00m\n\u001b[0;32m---> 46\u001b[0m     \u001b[38;5;28mself\u001b[39m\u001b[38;5;241m.\u001b[39madd_message(\u001b[43mHumanMessage\u001b[49m\u001b[43m(\u001b[49m\u001b[43mcontent\u001b[49m\u001b[38;5;241;43m=\u001b[39;49m\u001b[43mmessage\u001b[49m\u001b[43m)\u001b[49m)\n",
      "File \u001b[0;32m/opt/conda/lib/python3.10/site-packages/langchain/load/serializable.py:90\u001b[0m, in \u001b[0;36mSerializable.__init__\u001b[0;34m(self, **kwargs)\u001b[0m\n\u001b[1;32m     89\u001b[0m \u001b[38;5;28;01mdef\u001b[39;00m \u001b[38;5;21m__init__\u001b[39m(\u001b[38;5;28mself\u001b[39m, \u001b[38;5;241m*\u001b[39m\u001b[38;5;241m*\u001b[39mkwargs: Any) \u001b[38;5;241m-\u001b[39m\u001b[38;5;241m>\u001b[39m \u001b[38;5;28;01mNone\u001b[39;00m:\n\u001b[0;32m---> 90\u001b[0m     \u001b[38;5;28;43msuper\u001b[39;49m\u001b[43m(\u001b[49m\u001b[43m)\u001b[49m\u001b[38;5;241;43m.\u001b[39;49m\u001b[38;5;21;43m__init__\u001b[39;49m\u001b[43m(\u001b[49m\u001b[38;5;241;43m*\u001b[39;49m\u001b[38;5;241;43m*\u001b[39;49m\u001b[43mkwargs\u001b[49m\u001b[43m)\u001b[49m\n\u001b[1;32m     91\u001b[0m     \u001b[38;5;28mself\u001b[39m\u001b[38;5;241m.\u001b[39m_lc_kwargs \u001b[38;5;241m=\u001b[39m kwargs\n",
      "File \u001b[0;32m/opt/conda/lib/python3.10/site-packages/pydantic/main.py:341\u001b[0m, in \u001b[0;36mpydantic.main.BaseModel.__init__\u001b[0;34m()\u001b[0m\n",
      "\u001b[0;31mValidationError\u001b[0m: 1 validation error for HumanMessage\ncontent\n  str type expected (type=type_error.str)"
     ]
    }
   ],
   "source": [
    "llm = ChatOpenAI(model=\"gpt-3.5-turbo\", temperature=0.7)\n",
    "history = ChatMessageHistory()\n",
    "\n",
    "history.add_user_message(\"You are a helpful real estate assistant helping a buyer find their ideal home.\")\n",
    "for i in range(len(questions)):\n",
    "    history.add_ai_message(questions[i])\n",
    "    history.add_user_message(answers[i])\n",
    "\n",
    "history.add_ai_message(\"Now I will help personalize listings based on your preferences.\")\n",
    "\n",
    "\n",
    "summary_memory = ConversationSummaryMemory(\n",
    "    llm=llm,\n",
    "    memory_key=\"preference_summary\",\n",
    "    input_key=\"input\",\n",
    "    buffer=f\"The buyer answered {len(questions)} preference questions.\",\n",
    "    return_messages=True\n",
    ")\n",
    "\n",
    "class BuyerQnAMemory(ConversationBufferMemory):\n",
    "    def save_context(self, inputs, outputs):\n",
    "        input_str, output_str = self._get_input_output(inputs, outputs)\n",
    "        self.chat_memory.add_ai_message(output_str)\n",
    "\n",
    "buyer_qa_memory = BuyerQnAMemory(\n",
    "    chat_memory=history,\n",
    "    memory_key=\"buyer_qna\",\n",
    "    input_key=\"input\"\n",
    ")\n",
    "\n",
    "combined_memory = CombinedMemory(memories=[buyer_qa_memory, summary_memory])\n",
    "\n",
    "\n",
    "PROMPT_TEMPLATE = \"\"\"\n",
    "You are a real estate assistant. Use the buyer's preference summary and Q&A to personalize the property listing description.\n",
    "\n",
    "Preference Summary:\n",
    "{preference_summary}\n",
    "\n",
    "Buyer Q&A:\n",
    "{buyer_qna}\n",
    "\n",
    "Property Listing Description:\n",
    "{input}\n",
    "\n",
    "Please rewrite the property description to emphasize features matching the buyer's preferences.\n",
    "Do NOT add or remove factual information, only tailor the tone and emphasis.\n",
    "\n",
    "Personalized Listing Description:\n",
    "\"\"\"\n",
    "\n",
    "prompt = PromptTemplate(\n",
    "    input_variables=[\"preference_summary\", \"buyer_qna\", \"input\"],\n",
    "    template=PROMPT_TEMPLATE\n",
    ")\n",
    "\n",
    "\n",
    "recommender_chain = ConversationChain(\n",
    "    llm=llm,\n",
    "    memory=combined_memory,\n",
    "    prompt=prompt,\n",
    "    verbose=True\n",
    ")\n",
    "\n",
    "\n",
    "listing_ratings = []\n",
    "\n",
    "for i, listing in enumerate(listings, 1):\n",
    "    print(f\"\\n--- Evaluating Listing {i} ---\")\n",
    "    response = recommender_chain.predict(input=listing)\n",
    "    print(response)\n",
    "    listing_ratings.append((listing, str(response)))\n",
    "\n",
    "final_prompt = \"\"\"\n",
    "Now that you have rated all property listings, please recommend the top 1 or 2 listings that best match the buyer's preferences.\n",
    "\n",
    "Consider all previous rating explanations and scores. Provide reasons for your recommendations without adding new information.\n",
    "\n",
    "Recommendation:\n",
    "\"\"\"\n",
    "final_recommender_prompt = PromptTemplate(\n",
    "    input_variables=[\"preference_summary\", \"buyer_qna\", \"input\"],\n",
    "    template=final_prompt\n",
    ")\n",
    "\n",
    "final_recommendation_chain = ConversationChain(\n",
    "    llm=llm,\n",
    "    memory=combined_memory,\n",
    "    prompt=final_recommender_prompt,\n",
    "    verbose=True\n",
    ")\n",
    "\n",
    "# Combine all previous listing ratings explanations as input\n",
    "combined_ratings_text = \"\\n\\n\".join([f\"Listing {i+1} evaluation:\\n{rating}\" for i, (_, rating) in enumerate(listing_ratings)])\n",
    "\n",
    "final_recommendation = final_recommendation_chain.predict(input=combined_ratings_text)\n",
    "print(\"\\n=== Final Recommendation ===\")\n",
    "print(final_recommendation)\n"
   ]
  },
  {
   "cell_type": "code",
   "execution_count": null,
   "id": "5217d51d",
   "metadata": {},
   "outputs": [],
   "source": []
  },
  {
   "cell_type": "code",
   "execution_count": null,
   "id": "013a01c1",
   "metadata": {},
   "outputs": [],
   "source": []
  }
 ],
 "metadata": {
  "kernelspec": {
   "display_name": "Python 3 (ipykernel)",
   "language": "python",
   "name": "python3"
  },
  "language_info": {
   "codemirror_mode": {
    "name": "ipython",
    "version": 3
   },
   "file_extension": ".py",
   "mimetype": "text/x-python",
   "name": "python",
   "nbconvert_exporter": "python",
   "pygments_lexer": "ipython3",
   "version": "3.10.11"
  }
 },
 "nbformat": 4,
 "nbformat_minor": 5
}
